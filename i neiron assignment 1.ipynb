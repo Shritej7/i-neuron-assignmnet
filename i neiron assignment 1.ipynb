{
 "cells": [
  {
   "cell_type": "code",
   "execution_count": 1,
   "id": "9ada778d",
   "metadata": {},
   "outputs": [
    {
     "data": {
      "text/plain": [
       "'Reverse string without using any built-in string reversal functions'"
      ]
     },
     "execution_count": 1,
     "metadata": {},
     "output_type": "execute_result"
    }
   ],
   "source": [
    "'''Reverse string without using any built-in string reversal functions'''"
   ]
  },
  {
   "cell_type": "code",
   "execution_count": 2,
   "id": "971cc0ea",
   "metadata": {},
   "outputs": [],
   "source": [
    "def reverse_string(input_string):\n",
    "    return input_string[::-1]\n"
   ]
  },
  {
   "cell_type": "markdown",
   "id": "91faa75c",
   "metadata": {},
   "source": [
    "Check if a given string is a palindrome:"
   ]
  },
  {
   "cell_type": "code",
   "execution_count": 3,
   "id": "8118a845",
   "metadata": {},
   "outputs": [],
   "source": [
    "def is_palindrome(input_string):\n",
    "    return input_string == input_string[::-1]\n"
   ]
  },
  {
   "cell_type": "markdown",
   "id": "421b4e21",
   "metadata": {},
   "source": [
    "#Find the largest element in a given list:"
   ]
  },
  {
   "cell_type": "code",
   "execution_count": 4,
   "id": "5e913122",
   "metadata": {},
   "outputs": [],
   "source": [
    "def find_largest_element(input_list):\n",
    "    return max(input_list)\n"
   ]
  },
  {
   "cell_type": "code",
   "execution_count": 5,
   "id": "7dcc2d0c",
   "metadata": {},
   "outputs": [
    {
     "data": {
      "text/plain": [
       "'Count the occurrence of each element in a list:\\n'"
      ]
     },
     "execution_count": 5,
     "metadata": {},
     "output_type": "execute_result"
    }
   ],
   "source": [
    "'''Count the occurrence of each element in a list:\n",
    "'''"
   ]
  },
  {
   "cell_type": "code",
   "execution_count": 6,
   "id": "834c02ea",
   "metadata": {},
   "outputs": [],
   "source": [
    "from collections import Counter\n",
    "\n",
    "def count_occurrences(input_list):\n",
    "    return Counter(input_list)\n"
   ]
  },
  {
   "cell_type": "code",
   "execution_count": 7,
   "id": "ed63cdf8",
   "metadata": {},
   "outputs": [
    {
     "data": {
      "text/plain": [
       "'Find the second largest number in a list:\\n'"
      ]
     },
     "execution_count": 7,
     "metadata": {},
     "output_type": "execute_result"
    }
   ],
   "source": [
    "'''Find the second largest number in a list:\n",
    "'''"
   ]
  },
  {
   "cell_type": "code",
   "execution_count": 8,
   "id": "5a9d9bb7",
   "metadata": {},
   "outputs": [],
   "source": [
    "def find_second_largest(input_list):\n",
    "    unique_sorted_list = sorted(set(input_list))\n",
    "    return unique_sorted_list[-2] if len(unique_sorted_list) >= 2 else None\n"
   ]
  },
  {
   "cell_type": "code",
   "execution_count": 9,
   "id": "98587ac1",
   "metadata": {},
   "outputs": [
    {
     "data": {
      "text/plain": [
       "'Remove duplicate elements from a list:\\n'"
      ]
     },
     "execution_count": 9,
     "metadata": {},
     "output_type": "execute_result"
    }
   ],
   "source": [
    "'''Remove duplicate elements from a list:\n",
    "'''"
   ]
  },
  {
   "cell_type": "code",
   "execution_count": 10,
   "id": "4375eae3",
   "metadata": {},
   "outputs": [],
   "source": [
    "def remove_duplicates(input_list):\n",
    "    return list(set(input_list))\n"
   ]
  },
  {
   "cell_type": "code",
   "execution_count": 11,
   "id": "20ed5d45",
   "metadata": {},
   "outputs": [
    {
     "data": {
      "text/plain": [
       "'Calculate the factorial of a given number:\\n'"
      ]
     },
     "execution_count": 11,
     "metadata": {},
     "output_type": "execute_result"
    }
   ],
   "source": [
    "'''Calculate the factorial of a given number:\n",
    "'''"
   ]
  },
  {
   "cell_type": "code",
   "execution_count": 12,
   "id": "38522317",
   "metadata": {},
   "outputs": [],
   "source": [
    "def factorial(number):\n",
    "    if number == 0 or number == 1:\n",
    "        return 1\n",
    "    else:\n",
    "        return number * factorial(number - 1)\n"
   ]
  },
  {
   "cell_type": "code",
   "execution_count": 13,
   "id": "9bcc17e8",
   "metadata": {},
   "outputs": [
    {
     "data": {
      "text/plain": [
       "'Check if a given number is prime:\\n'"
      ]
     },
     "execution_count": 13,
     "metadata": {},
     "output_type": "execute_result"
    }
   ],
   "source": [
    "'''Check if a given number is prime:\n",
    "'''"
   ]
  },
  {
   "cell_type": "code",
   "execution_count": 14,
   "id": "d4147f1d",
   "metadata": {},
   "outputs": [],
   "source": [
    "def is_prime(number):\n",
    "    if number < 2:\n",
    "        return False\n",
    "    for i in range(2, int(number**0.5) + 1):\n",
    "        if number % i == 0:\n",
    "            return False\n",
    "    return True\n"
   ]
  },
  {
   "cell_type": "code",
   "execution_count": 15,
   "id": "bc1f6997",
   "metadata": {},
   "outputs": [
    {
     "data": {
      "text/plain": [
       "'Sort a list of integers in ascending order:\\n'"
      ]
     },
     "execution_count": 15,
     "metadata": {},
     "output_type": "execute_result"
    }
   ],
   "source": [
    "'''Sort a list of integers in ascending order:\n",
    "'''"
   ]
  },
  {
   "cell_type": "code",
   "execution_count": 16,
   "id": "0d1a9e52",
   "metadata": {},
   "outputs": [],
   "source": [
    "def sort_list(input_list):\n",
    "    return sorted(input_list)\n",
    "\n"
   ]
  },
  {
   "cell_type": "code",
   "execution_count": 17,
   "id": "05b3f730",
   "metadata": {},
   "outputs": [
    {
     "data": {
      "text/plain": [
       "'Find the sum of all numbers in a list:\\n'"
      ]
     },
     "execution_count": 17,
     "metadata": {},
     "output_type": "execute_result"
    }
   ],
   "source": [
    "'''Find the sum of all numbers in a list:\n",
    "'''"
   ]
  },
  {
   "cell_type": "code",
   "execution_count": 18,
   "id": "c0927292",
   "metadata": {},
   "outputs": [],
   "source": [
    "def find_sum(input_list):\n",
    "    return sum(input_list)\n"
   ]
  },
  {
   "cell_type": "code",
   "execution_count": 19,
   "id": "d6ff9cfb",
   "metadata": {},
   "outputs": [
    {
     "data": {
      "text/plain": [
       "'Find the sum of all numbers in a list:\\n'"
      ]
     },
     "execution_count": 19,
     "metadata": {},
     "output_type": "execute_result"
    }
   ],
   "source": [
    "'''Find the sum of all numbers in a list:\n",
    "'''"
   ]
  },
  {
   "cell_type": "code",
   "execution_count": 20,
   "id": "55167799",
   "metadata": {},
   "outputs": [],
   "source": [
    "def find_sum(input_list):\n",
    "    return sum(input_list)\n"
   ]
  },
  {
   "cell_type": "code",
   "execution_count": 21,
   "id": "7a6a4a99",
   "metadata": {},
   "outputs": [
    {
     "data": {
      "text/plain": [
       "'Find the common elements between two lists:\\n'"
      ]
     },
     "execution_count": 21,
     "metadata": {},
     "output_type": "execute_result"
    }
   ],
   "source": [
    "'''Find the common elements between two lists:\n",
    "'''"
   ]
  },
  {
   "cell_type": "code",
   "execution_count": 22,
   "id": "459ec605",
   "metadata": {},
   "outputs": [],
   "source": [
    "def find_common_elements(list1, list2):\n",
    "    return list(set(list1) & set(list2))\n"
   ]
  },
  {
   "cell_type": "code",
   "execution_count": 23,
   "id": "bd20ef91",
   "metadata": {},
   "outputs": [
    {
     "data": {
      "text/plain": [
       "'Check if a given string is an anagram of another string:\\n'"
      ]
     },
     "execution_count": 23,
     "metadata": {},
     "output_type": "execute_result"
    }
   ],
   "source": [
    "'''Check if a given string is an anagram of another string:\n",
    "'''"
   ]
  },
  {
   "cell_type": "code",
   "execution_count": 24,
   "id": "a1ce42ec",
   "metadata": {},
   "outputs": [],
   "source": [
    "def is_anagram(str1, str2):\n",
    "    return sorted(str1) == sorted(str2)\n"
   ]
  },
  {
   "cell_type": "code",
   "execution_count": 25,
   "id": "dfffd556",
   "metadata": {},
   "outputs": [
    {
     "data": {
      "text/plain": [
       "'Generate all permutations of a given string:\\n'"
      ]
     },
     "execution_count": 25,
     "metadata": {},
     "output_type": "execute_result"
    }
   ],
   "source": [
    "'''Generate all permutations of a given string:\n",
    "'''"
   ]
  },
  {
   "cell_type": "code",
   "execution_count": 26,
   "id": "830bc9a5",
   "metadata": {},
   "outputs": [],
   "source": [
    "from itertools import permutations\n",
    "\n",
    "def generate_permutations(input_string):\n",
    "    return [''.join(p) for p in permutations(input_string)]\n"
   ]
  },
  {
   "cell_type": "code",
   "execution_count": 27,
   "id": "bf3717eb",
   "metadata": {},
   "outputs": [
    {
     "data": {
      "text/plain": [
       "'Calculate the Fibonacci sequence up to a given number of terms:\\n'"
      ]
     },
     "execution_count": 27,
     "metadata": {},
     "output_type": "execute_result"
    }
   ],
   "source": [
    "'''Calculate the Fibonacci sequence up to a given number of terms:\n",
    "'''"
   ]
  },
  {
   "cell_type": "code",
   "execution_count": 28,
   "id": "cd03e686",
   "metadata": {},
   "outputs": [],
   "source": [
    "def fibonacci(n):\n",
    "    fib_sequence = [0, 1]\n",
    "    while len(fib_sequence) < n:\n",
    "        fib_sequence.append(fib_sequence[-1] + fib_sequence[-2])\n",
    "    return fib_sequence\n"
   ]
  },
  {
   "cell_type": "code",
   "execution_count": 29,
   "id": "f558fd1d",
   "metadata": {},
   "outputs": [
    {
     "data": {
      "text/plain": [
       "'Find the median of a list of numbers:\\n'"
      ]
     },
     "execution_count": 29,
     "metadata": {},
     "output_type": "execute_result"
    }
   ],
   "source": [
    "'''Find the median of a list of numbers:\n",
    "'''"
   ]
  },
  {
   "cell_type": "code",
   "execution_count": 30,
   "id": "596af3d6",
   "metadata": {},
   "outputs": [],
   "source": [
    "def find_median(input_list):\n",
    "    sorted_list = sorted(input_list)\n",
    "    n = len(sorted_list)\n",
    "    if n % 2 == 1:\n",
    "        return sorted_list[n // 2]\n",
    "    else:\n",
    "        return (sorted_list[n // 2 - 1] + sorted_list[n // 2]) / 2.0\n"
   ]
  },
  {
   "cell_type": "code",
   "execution_count": 31,
   "id": "6cc63180",
   "metadata": {},
   "outputs": [
    {
     "data": {
      "text/plain": [
       "'Check if a given list is sorted in non-decreasing order:\\n'"
      ]
     },
     "execution_count": 31,
     "metadata": {},
     "output_type": "execute_result"
    }
   ],
   "source": [
    "'''Check if a given list is sorted in non-decreasing order:\n",
    "'''"
   ]
  },
  {
   "cell_type": "code",
   "execution_count": 32,
   "id": "92809ace",
   "metadata": {},
   "outputs": [],
   "source": [
    "def is_sorted(input_list):\n",
    "    return all(input_list[i] <= input_list[i + 1] for i in range(len(input_list) - 1))\n"
   ]
  },
  {
   "cell_type": "code",
   "execution_count": 33,
   "id": "409ac6d0",
   "metadata": {},
   "outputs": [
    {
     "data": {
      "text/plain": [
       "'Find the intersection of two lists:\\n'"
      ]
     },
     "execution_count": 33,
     "metadata": {},
     "output_type": "execute_result"
    }
   ],
   "source": [
    "'''Find the intersection of two lists:\n",
    "'''"
   ]
  },
  {
   "cell_type": "code",
   "execution_count": 34,
   "id": "4acd4add",
   "metadata": {},
   "outputs": [],
   "source": [
    "def find_intersection(list1, list2):\n",
    "    return list(set(list1) & set(list2))\n"
   ]
  },
  {
   "cell_type": "code",
   "execution_count": 35,
   "id": "553008fa",
   "metadata": {},
   "outputs": [
    {
     "data": {
      "text/plain": [
       "'Find the maximum subarray sum in a given list:\\n'"
      ]
     },
     "execution_count": 35,
     "metadata": {},
     "output_type": "execute_result"
    }
   ],
   "source": [
    "'''Find the maximum subarray sum in a given list:\n",
    "'''"
   ]
  },
  {
   "cell_type": "code",
   "execution_count": 36,
   "id": "698ef34b",
   "metadata": {},
   "outputs": [],
   "source": [
    "def max_subarray_sum(input_list):\n",
    "    max_sum = current_sum = input_list[0]\n",
    "    for num in input_list[1:]:\n",
    "        current_sum = max(num, current_sum + num)\n",
    "        max_sum = max(max_sum, current_sum)\n",
    "    return max_sum\n"
   ]
  },
  {
   "cell_type": "code",
   "execution_count": 37,
   "id": "a76fc8b8",
   "metadata": {},
   "outputs": [
    {
     "data": {
      "text/plain": [
       "'Remove all vowels from a given string:\\n'"
      ]
     },
     "execution_count": 37,
     "metadata": {},
     "output_type": "execute_result"
    }
   ],
   "source": [
    "'''Remove all vowels from a given string:\n",
    "'''"
   ]
  },
  {
   "cell_type": "code",
   "execution_count": 38,
   "id": "efbd9fb3",
   "metadata": {},
   "outputs": [],
   "source": [
    "def remove_vowels(input_string):\n",
    "    vowels = \"aeiouAEIOU\"\n",
    "    return ''.join(char for char in input_string if char not in vowels)\n"
   ]
  },
  {
   "cell_type": "code",
   "execution_count": 39,
   "id": "1072ca84",
   "metadata": {},
   "outputs": [
    {
     "data": {
      "text/plain": [
       "'Reverse the order of words in a given sentence:\\n'"
      ]
     },
     "execution_count": 39,
     "metadata": {},
     "output_type": "execute_result"
    }
   ],
   "source": [
    "'''Reverse the order of words in a given sentence:\n",
    "'''"
   ]
  },
  {
   "cell_type": "code",
   "execution_count": 40,
   "id": "ccef6927",
   "metadata": {},
   "outputs": [],
   "source": [
    "def reverse_sentence(sentence):\n",
    "    words = sentence.split()\n",
    "    return ' '.join(words[::-1])\n"
   ]
  },
  {
   "cell_type": "code",
   "execution_count": 41,
   "id": "0a4d895b",
   "metadata": {},
   "outputs": [
    {
     "data": {
      "text/plain": [
       "'Check if two strings are anagrams of each other:\\n'"
      ]
     },
     "execution_count": 41,
     "metadata": {},
     "output_type": "execute_result"
    }
   ],
   "source": [
    "'''Check if two strings are anagrams of each other:\n",
    "'''"
   ]
  },
  {
   "cell_type": "code",
   "execution_count": 42,
   "id": "df89e8f5",
   "metadata": {},
   "outputs": [],
   "source": [
    "def are_anagrams(str1, str2):\n",
    "    return sorted(str1) == sorted(str2)\n"
   ]
  },
  {
   "cell_type": "code",
   "execution_count": 43,
   "id": "0c3ec277",
   "metadata": {},
   "outputs": [
    {
     "data": {
      "text/plain": [
       "'Find the first non-repeating character in a string:\\n'"
      ]
     },
     "execution_count": 43,
     "metadata": {},
     "output_type": "execute_result"
    }
   ],
   "source": [
    "'''Find the first non-repeating character in a string:\n",
    "'''"
   ]
  },
  {
   "cell_type": "code",
   "execution_count": 44,
   "id": "30c117ae",
   "metadata": {},
   "outputs": [],
   "source": [
    "def first_non_repeating_char(input_string):\n",
    "    char_count = {}\n",
    "    for char in input_string:\n",
    "        char_count[char] = char_count.get(char, 0) + 1\n",
    "    for char in input_string:\n",
    "        if char_count[char] == 1:\n",
    "            return char\n",
    "    return None\n"
   ]
  },
  {
   "cell_type": "code",
   "execution_count": 45,
   "id": "59813f4d",
   "metadata": {},
   "outputs": [
    {
     "data": {
      "text/plain": [
       "'Find the prime factors of a given number:\\n'"
      ]
     },
     "execution_count": 45,
     "metadata": {},
     "output_type": "execute_result"
    }
   ],
   "source": [
    "'''Find the prime factors of a given number:\n",
    "'''"
   ]
  },
  {
   "cell_type": "code",
   "execution_count": 46,
   "id": "c074290e",
   "metadata": {},
   "outputs": [],
   "source": [
    "def prime_factors(number):\n",
    "    factors = []\n",
    "    for i in range(2, int(number**0.5) + 1):\n",
    "        while number % i == 0:\n",
    "            factors.append(i)\n",
    "            number //= i\n",
    "    if number > 1:\n",
    "        factors.append(number)\n",
    "    return factors\n"
   ]
  },
  {
   "cell_type": "code",
   "execution_count": 47,
   "id": "037326a2",
   "metadata": {},
   "outputs": [
    {
     "data": {
      "text/plain": [
       "'Check if a given number is a power of two:\\n'"
      ]
     },
     "execution_count": 47,
     "metadata": {},
     "output_type": "execute_result"
    }
   ],
   "source": [
    "'''Check if a given number is a power of two:\n",
    "'''"
   ]
  },
  {
   "cell_type": "code",
   "execution_count": 48,
   "id": "08694e17",
   "metadata": {},
   "outputs": [],
   "source": [
    "def is_power_of_two(number):\n",
    "    return number > 0 and (number & (number - 1)) == 0\n"
   ]
  },
  {
   "cell_type": "code",
   "execution_count": 49,
   "id": "f8e001ff",
   "metadata": {},
   "outputs": [
    {
     "data": {
      "text/plain": [
       "'Merge two sorted lists into a single sorted list:\\n'"
      ]
     },
     "execution_count": 49,
     "metadata": {},
     "output_type": "execute_result"
    }
   ],
   "source": [
    "'''Merge two sorted lists into a single sorted list:\n",
    "'''"
   ]
  },
  {
   "cell_type": "code",
   "execution_count": 50,
   "id": "67e9d040",
   "metadata": {},
   "outputs": [],
   "source": [
    "def merge_sorted_lists(list1, list2):\n",
    "    merged_list = []\n",
    "    i, j = 0, 0\n",
    "\n",
    "    while i < len(list1) and j < len(list2):\n",
    "        if list1[i] < list2[j]:\n",
    "            merged_list.append(list1[i])\n",
    "            i += 1\n",
    "        else:\n",
    "            merged_list.append(list2[j])\n",
    "            j += 1\n",
    "\n",
    "    merged_list.extend(list1[i:])\n",
    "    merged_list.extend(list2[j:])\n",
    "    return merged_list\n"
   ]
  },
  {
   "cell_type": "code",
   "execution_count": 51,
   "id": "0a2efb43",
   "metadata": {},
   "outputs": [
    {
     "data": {
      "text/plain": [
       "'Find the mode of a list of numbers:\\n'"
      ]
     },
     "execution_count": 51,
     "metadata": {},
     "output_type": "execute_result"
    }
   ],
   "source": [
    "'''Find the mode of a list of numbers:\n",
    "'''"
   ]
  },
  {
   "cell_type": "code",
   "execution_count": 52,
   "id": "7c992ecc",
   "metadata": {},
   "outputs": [],
   "source": [
    "def find_mode(input_list):\n",
    "    frequency = {}\n",
    "    for num in input_list:\n",
    "        frequency[num] = frequency.get(num, 0) + 1\n",
    "\n",
    "    max_frequency = max(frequency.values())\n",
    "    mode = [num for num, freq in frequency.items() if freq == max_frequency]\n",
    "    return mode\n"
   ]
  },
  {
   "cell_type": "code",
   "execution_count": 53,
   "id": "89650898",
   "metadata": {},
   "outputs": [
    {
     "data": {
      "text/plain": [
       "'Find the greatest common divisor (GCD) of two numbers:\\n'"
      ]
     },
     "execution_count": 53,
     "metadata": {},
     "output_type": "execute_result"
    }
   ],
   "source": [
    "'''Find the greatest common divisor (GCD) of two numbers:\n",
    "'''\n"
   ]
  },
  {
   "cell_type": "code",
   "execution_count": 54,
   "id": "b7b8d2b0",
   "metadata": {},
   "outputs": [],
   "source": [
    "def gcd(a, b):\n",
    "    while b != 0:\n",
    "        a, b = b, a % b\n",
    "    return abs(a)\n"
   ]
  },
  {
   "cell_type": "code",
   "execution_count": 55,
   "id": "ec014802",
   "metadata": {},
   "outputs": [
    {
     "data": {
      "text/plain": [
       "'Calculate the square root of a given number:\\n'"
      ]
     },
     "execution_count": 55,
     "metadata": {},
     "output_type": "execute_result"
    }
   ],
   "source": [
    "'''Calculate the square root of a given number:\n",
    "'''"
   ]
  },
  {
   "cell_type": "code",
   "execution_count": 56,
   "id": "04bae836",
   "metadata": {},
   "outputs": [],
   "source": [
    "def square_root(number):\n",
    "    if number < 0:\n",
    "        raise ValueError(\"Square root is not defined for negative numbers.\")\n",
    "    return number ** 0.5\n"
   ]
  },
  {
   "cell_type": "code",
   "execution_count": 57,
   "id": "bb52cf64",
   "metadata": {},
   "outputs": [
    {
     "data": {
      "text/plain": [
       "'Check if a given string is a valid palindrome ignoring non-alphanumeric characters:\\n'"
      ]
     },
     "execution_count": 57,
     "metadata": {},
     "output_type": "execute_result"
    }
   ],
   "source": [
    "'''Check if a given string is a valid palindrome ignoring non-alphanumeric characters:\n",
    "'''"
   ]
  },
  {
   "cell_type": "code",
   "execution_count": 58,
   "id": "d33c68cd",
   "metadata": {},
   "outputs": [],
   "source": [
    "import re\n",
    "\n",
    "def is_valid_palindrome(input_string):\n",
    "    alphanumeric_string = re.sub(r'\\W+', '', input_string).lower()\n",
    "    return alphanumeric_string == alphanumeric_string[::-1]\n"
   ]
  },
  {
   "cell_type": "code",
   "execution_count": 59,
   "id": "07e0bb55",
   "metadata": {},
   "outputs": [
    {
     "data": {
      "text/plain": [
       "'Find the minimum element in a rotated sorted list:\\n'"
      ]
     },
     "execution_count": 59,
     "metadata": {},
     "output_type": "execute_result"
    }
   ],
   "source": [
    "'''Find the minimum element in a rotated sorted list:\n",
    "'''"
   ]
  },
  {
   "cell_type": "code",
   "execution_count": 60,
   "id": "484b1b4c",
   "metadata": {},
   "outputs": [],
   "source": [
    "def find_min_in_rotated_sorted_list(input_list):\n",
    "    left, right = 0, len(input_list) - 1\n",
    "    while left < right:\n",
    "        mid = left + (right - left) // 2\n",
    "        if input_list[mid] > input_list[right]:\n",
    "            left = mid + 1\n",
    "        else:\n",
    "            right = mid\n",
    "    return input_list[left]\n"
   ]
  },
  {
   "cell_type": "code",
   "execution_count": 61,
   "id": "d478527f",
   "metadata": {},
   "outputs": [
    {
     "data": {
      "text/plain": [
       "'Find the sum of all even numbers in a list:\\n'"
      ]
     },
     "execution_count": 61,
     "metadata": {},
     "output_type": "execute_result"
    }
   ],
   "source": [
    "'''Find the sum of all even numbers in a list:\n",
    "'''"
   ]
  },
  {
   "cell_type": "code",
   "execution_count": 62,
   "id": "4a5a0dc0",
   "metadata": {},
   "outputs": [],
   "source": [
    "def sum_of_even_numbers(input_list):\n",
    "    return sum(num for num in input_list if num % 2 == 0)\n"
   ]
  },
  {
   "cell_type": "code",
   "execution_count": 63,
   "id": "a675274d",
   "metadata": {},
   "outputs": [
    {
     "data": {
      "text/plain": [
       "'Calculate the power of a number using recursion:\\n'"
      ]
     },
     "execution_count": 63,
     "metadata": {},
     "output_type": "execute_result"
    }
   ],
   "source": [
    "'''Calculate the power of a number using recursion:\n",
    "'''"
   ]
  },
  {
   "cell_type": "code",
   "execution_count": 64,
   "id": "2875d812",
   "metadata": {},
   "outputs": [],
   "source": [
    "def power(base, exponent):\n",
    "    if exponent == 0:\n",
    "        return 1\n",
    "    return base * power(base, exponent - 1)\n"
   ]
  },
  {
   "cell_type": "code",
   "execution_count": 65,
   "id": "288d2bbd",
   "metadata": {},
   "outputs": [
    {
     "data": {
      "text/plain": [
       "'Remove duplicates from a list while preserving the order:\\n'"
      ]
     },
     "execution_count": 65,
     "metadata": {},
     "output_type": "execute_result"
    }
   ],
   "source": [
    "'''Remove duplicates from a list while preserving the order:\n",
    "'''"
   ]
  },
  {
   "cell_type": "code",
   "execution_count": 66,
   "id": "bc0347ba",
   "metadata": {},
   "outputs": [],
   "source": [
    "def remove_duplicates_preserve_order(input_list):\n",
    "    unique_list = []\n",
    "    for item in input_list:\n",
    "        if item not in unique_list:\n",
    "            unique_list.append(item)\n",
    "    return unique_list\n"
   ]
  },
  {
   "cell_type": "code",
   "execution_count": 67,
   "id": "8061c50c",
   "metadata": {},
   "outputs": [
    {
     "data": {
      "text/plain": [
       "'Find the longest common prefix among a list of strings:\\n'"
      ]
     },
     "execution_count": 67,
     "metadata": {},
     "output_type": "execute_result"
    }
   ],
   "source": [
    "'''Find the longest common prefix among a list of strings:\n",
    "'''"
   ]
  },
  {
   "cell_type": "code",
   "execution_count": 68,
   "id": "bb622d20",
   "metadata": {},
   "outputs": [],
   "source": [
    "def longest_common_prefix(str_list):\n",
    "    if not str_list:\n",
    "        return \"\"\n",
    "\n",
    "    min_length = min(len(s) for s in str_list)\n",
    "    prefix = \"\"\n",
    "    for i in range(min_length):\n",
    "        char = str_list[0][i]\n",
    "        if all(s[i] == char for s in str_list):\n",
    "            prefix += char\n",
    "        else:\n",
    "            break\n",
    "    return prefix\n"
   ]
  },
  {
   "cell_type": "code",
   "execution_count": 69,
   "id": "14b72e51",
   "metadata": {},
   "outputs": [
    {
     "data": {
      "text/plain": [
       "'Check if a given number is a perfect square:\\n'"
      ]
     },
     "execution_count": 69,
     "metadata": {},
     "output_type": "execute_result"
    }
   ],
   "source": [
    "'''Check if a given number is a perfect square:\n",
    "'''"
   ]
  },
  {
   "cell_type": "code",
   "execution_count": 70,
   "id": "1914fdd1",
   "metadata": {},
   "outputs": [],
   "source": [
    "def is_perfect_square(number):\n",
    "    return number >= 0 and int(number**0.5)**2 == number\n"
   ]
  },
  {
   "cell_type": "code",
   "execution_count": 71,
   "id": "69496900",
   "metadata": {},
   "outputs": [
    {
     "data": {
      "text/plain": [
       "'Calculate the product of all elements in a list:\\n'"
      ]
     },
     "execution_count": 71,
     "metadata": {},
     "output_type": "execute_result"
    }
   ],
   "source": [
    "'''Calculate the product of all elements in a list:\n",
    "'''"
   ]
  },
  {
   "cell_type": "code",
   "execution_count": 72,
   "id": "6881ece9",
   "metadata": {},
   "outputs": [],
   "source": [
    "def find_product(input_list):\n",
    "    product = 1\n",
    "    for num in input_list:\n",
    "        product *= num\n",
    "    return product\n"
   ]
  },
  {
   "cell_type": "code",
   "execution_count": 73,
   "id": "c4ed6c1a",
   "metadata": {},
   "outputs": [
    {
     "data": {
      "text/plain": [
       "'Reverse the order of words in a sentence while preserving the word order:\\n'"
      ]
     },
     "execution_count": 73,
     "metadata": {},
     "output_type": "execute_result"
    }
   ],
   "source": [
    "'''Reverse the order of words in a sentence while preserving the word order:\n",
    "'''"
   ]
  },
  {
   "cell_type": "code",
   "execution_count": 74,
   "id": "b54ae029",
   "metadata": {},
   "outputs": [],
   "source": [
    "def reverse_words(sentence):\n",
    "    words = sentence.split()\n",
    "    reversed_words = ' '.join(words[::-1])\n",
    "    return reversed_words\n"
   ]
  },
  {
   "cell_type": "code",
   "execution_count": 75,
   "id": "25eb22aa",
   "metadata": {},
   "outputs": [
    {
     "data": {
      "text/plain": [
       "'Find the missing number in a given list of consecutive numbers:\\n'"
      ]
     },
     "execution_count": 75,
     "metadata": {},
     "output_type": "execute_result"
    }
   ],
   "source": [
    "'''Find the missing number in a given list of consecutive numbers:\n",
    "'''"
   ]
  },
  {
   "cell_type": "code",
   "execution_count": 76,
   "id": "97e3fb39",
   "metadata": {},
   "outputs": [],
   "source": [
    "def find_missing_number(consecutive_list):\n",
    "    n = len(consecutive_list) + 1\n",
    "    expected_sum = n * (n + 1) // 2\n",
    "    actual_sum = sum(consecutive_list)\n",
    "    return expected_sum - actual_sum\n"
   ]
  },
  {
   "cell_type": "code",
   "execution_count": 77,
   "id": "8f33bb18",
   "metadata": {},
   "outputs": [
    {
     "data": {
      "text/plain": [
       "'Find the sum of digits of a given number:\\n'"
      ]
     },
     "execution_count": 77,
     "metadata": {},
     "output_type": "execute_result"
    }
   ],
   "source": [
    "'''Find the sum of digits of a given number:\n",
    "'''"
   ]
  },
  {
   "cell_type": "code",
   "execution_count": 78,
   "id": "0790b4d6",
   "metadata": {},
   "outputs": [],
   "source": [
    "def sum_of_digits(number):\n",
    "    return sum(int(digit) for digit in str(abs(number)))\n"
   ]
  },
  {
   "cell_type": "code",
   "execution_count": 79,
   "id": "6943ece2",
   "metadata": {},
   "outputs": [
    {
     "data": {
      "text/plain": [
       "'Check if a given string is a valid palindrome considering case sensitivity:\\n'"
      ]
     },
     "execution_count": 79,
     "metadata": {},
     "output_type": "execute_result"
    }
   ],
   "source": [
    "'''Check if a given string is a valid palindrome considering case sensitivity:\n",
    "'''"
   ]
  },
  {
   "cell_type": "code",
   "execution_count": 80,
   "id": "5aaadf9a",
   "metadata": {},
   "outputs": [],
   "source": [
    "def is_valid_palindrome_case_sensitive(input_string):\n",
    "    return input_string == input_string[::-1]\n"
   ]
  },
  {
   "cell_type": "code",
   "execution_count": 81,
   "id": "ebcc6dc5",
   "metadata": {},
   "outputs": [
    {
     "data": {
      "text/plain": [
       "'Find the smallest missing positive integer in a list:\\n'"
      ]
     },
     "execution_count": 81,
     "metadata": {},
     "output_type": "execute_result"
    }
   ],
   "source": [
    "'''Find the smallest missing positive integer in a list:\n",
    "'''"
   ]
  },
  {
   "cell_type": "code",
   "execution_count": 82,
   "id": "d8f341b3",
   "metadata": {},
   "outputs": [],
   "source": [
    "def smallest_missing_positive_integer(input_list):\n",
    "    n = len(input_list)\n",
    "    for i in range(n):\n",
    "        while 1 <= input_list[i] <= n and input_list[i] != input_list[input_list[i] - 1]:\n",
    "            input_list[input_list[i] - 1], input_list[i] = input_list[i], input_list[input_list[i] - 1]\n",
    "\n",
    "    for i in range(n):\n",
    "        if input_list[i] != i + 1:\n",
    "            return i + 1\n",
    "\n",
    "    return n + 1\n"
   ]
  },
  {
   "cell_type": "code",
   "execution_count": 83,
   "id": "78b5cc81",
   "metadata": {},
   "outputs": [
    {
     "data": {
      "text/plain": [
       "'Find the longest palindrome substring in a given string:\\n'"
      ]
     },
     "execution_count": 83,
     "metadata": {},
     "output_type": "execute_result"
    }
   ],
   "source": [
    "'''Find the longest palindrome substring in a given string:\n",
    "'''"
   ]
  },
  {
   "cell_type": "code",
   "execution_count": 84,
   "id": "2a5e46bc",
   "metadata": {},
   "outputs": [],
   "source": [
    "def longest_palindrome_substring(input_string):\n",
    "    def expand_around_center(left, right):\n",
    "        while left >= 0 and right < len(input_string) and input_string[left] == input_string[right]:\n",
    "            left -= 1\n",
    "            right += 1\n",
    "        return input_string[left + 1:right]\n",
    "\n",
    "    longest = \"\"\n",
    "    for i in range(len(input_string)):\n",
    "        # For odd-length palindrome\n",
    "        palindrome1 = expand_around_center(i, i)\n",
    "        # For even-length palindrome\n",
    "        palindrome2 = expand_around_center(i, i + 1)\n",
    "\n",
    "        if len(palindrome1) > len(longest):\n",
    "            longest = palindrome1\n",
    "        if len(palindrome2) > len(longest):\n",
    "            longest = palindrome2\n",
    "\n",
    "    return longest\n"
   ]
  },
  {
   "cell_type": "code",
   "execution_count": 85,
   "id": "84465f74",
   "metadata": {},
   "outputs": [
    {
     "data": {
      "text/plain": [
       "'Find the number of occurrences of a given element in a list:\\n'"
      ]
     },
     "execution_count": 85,
     "metadata": {},
     "output_type": "execute_result"
    }
   ],
   "source": [
    "'''Find the number of occurrences of a given element in a list:\n",
    "'''"
   ]
  },
  {
   "cell_type": "code",
   "execution_count": 86,
   "id": "225b6ec9",
   "metadata": {},
   "outputs": [],
   "source": [
    "def count_occurrences_of_element(input_list, element):\n",
    "    return input_list.count(element)\n"
   ]
  },
  {
   "cell_type": "code",
   "execution_count": 87,
   "id": "f5780d86",
   "metadata": {},
   "outputs": [
    {
     "data": {
      "text/plain": [
       "'Check if a given number is a perfect number:\\n'"
      ]
     },
     "execution_count": 87,
     "metadata": {},
     "output_type": "execute_result"
    }
   ],
   "source": [
    "'''Check if a given number is a perfect number:\n",
    "'''"
   ]
  },
  {
   "cell_type": "code",
   "execution_count": 88,
   "id": "220efc08",
   "metadata": {},
   "outputs": [],
   "source": [
    "def is_perfect_number(number):\n",
    "    if number <= 0:\n",
    "        return False\n",
    "    divisor_sum = sum(i for i in range(1, number) if number % i == 0)\n",
    "    return divisor_sum == number\n"
   ]
  },
  {
   "cell_type": "code",
   "execution_count": 89,
   "id": "be6704ec",
   "metadata": {},
   "outputs": [
    {
     "data": {
      "text/plain": [
       "'Remove all duplicates from a string:\\n'"
      ]
     },
     "execution_count": 89,
     "metadata": {},
     "output_type": "execute_result"
    }
   ],
   "source": [
    "'''Remove all duplicates from a string:\n",
    "'''"
   ]
  },
  {
   "cell_type": "code",
   "execution_count": 90,
   "id": "308770c7",
   "metadata": {},
   "outputs": [],
   "source": [
    "def remove_duplicates_from_string(input_string):\n",
    "    return ''.join(set(input_string))\n"
   ]
  },
  {
   "cell_type": "code",
   "execution_count": 91,
   "id": "587dfd46",
   "metadata": {},
   "outputs": [
    {
     "data": {
      "text/plain": [
       "'Find the first missing positive integer:\\n'"
      ]
     },
     "execution_count": 91,
     "metadata": {},
     "output_type": "execute_result"
    }
   ],
   "source": [
    "'''Find the first missing positive integer:\n",
    "'''"
   ]
  },
  {
   "cell_type": "code",
   "execution_count": 92,
   "id": "7dd9b0b2",
   "metadata": {},
   "outputs": [],
   "source": [
    "def first_missing_positive(nums):\n",
    "    n = len(nums)\n",
    "\n",
    "    # Step 1: Replace all non-positive integers and numbers greater than n with 1\n",
    "    for i in range(n):\n",
    "        if nums[i] <= 0 or nums[i] > n:\n",
    "            nums[i] = 1\n",
    "\n",
    "    # Step 2: Mark the presence of each number in the list using the index as a marker\n",
    "    for i in range(n):\n",
    "        index = abs(nums[i])\n",
    "        if index == n:\n",
    "            nums[0] = -abs(nums[0])\n",
    "        else:\n",
    "            nums[index] = -abs(nums[index])\n",
    "\n",
    "    # Step 3: Find the first positive number in the list\n",
    "    for i in range(1, n):\n",
    "        if nums[i] > 0:\n",
    "            return i\n",
    "\n",
    "    # Step 4: Handle the special case where all numbers from 1 to n-1 are present\n",
    "    if nums[0] > 0:\n",
    "        return n\n",
    "\n",
    "    return n + 1\n"
   ]
  },
  {
   "cell_type": "code",
   "execution_count": null,
   "id": "6b54006b",
   "metadata": {},
   "outputs": [],
   "source": []
  }
 ],
 "metadata": {
  "kernelspec": {
   "display_name": "Python 3 (ipykernel)",
   "language": "python",
   "name": "python3"
  },
  "language_info": {
   "codemirror_mode": {
    "name": "ipython",
    "version": 3
   },
   "file_extension": ".py",
   "mimetype": "text/x-python",
   "name": "python",
   "nbconvert_exporter": "python",
   "pygments_lexer": "ipython3",
   "version": "3.9.7"
  }
 },
 "nbformat": 4,
 "nbformat_minor": 5
}

{
 "cells": [
  {
   "cell_type": "code",
   "execution_count": 1,
   "id": "76dbc567",
   "metadata": {},
   "outputs": [
    {
     "data": {
      "text/plain": [
       "'1. Scenario: A company wants to analyze the sales performance of its products in different regions. They have collected the following data:\\n   Region A: [10, 15, 12, 8, 14]\\n   Region B: [18, 20, 16, 22, 25]\\n   Calculate the mean sales for each region\\n'"
      ]
     },
     "execution_count": 1,
     "metadata": {},
     "output_type": "execute_result"
    }
   ],
   "source": [
    "'''1. Scenario: A company wants to analyze the sales performance of its products in different regions. They have collected the following data:\n",
    "   Region A: [10, 15, 12, 8, 14]\n",
    "   Region B: [18, 20, 16, 22, 25]\n",
    "   Calculate the mean sales for each region\n",
    "'''"
   ]
  },
  {
   "cell_type": "code",
   "execution_count": 2,
   "id": "9fa85647",
   "metadata": {},
   "outputs": [
    {
     "name": "stdout",
     "output_type": "stream",
     "text": [
      "Mean sales for Region A: 11.8\n",
      "Mean sales for Region B: 20.2\n"
     ]
    }
   ],
   "source": [
    "# Sales data for Region A and Region B\n",
    "region_a_sales = [10, 15, 12, 8, 14]\n",
    "region_b_sales = [18, 20, 16, 22, 25]\n",
    "\n",
    "# Calculate the mean sales for each region\n",
    "mean_region_a_sales = sum(region_a_sales) / len(region_a_sales)\n",
    "mean_region_b_sales = sum(region_b_sales) / len(region_b_sales)\n",
    "\n",
    "print(\"Mean sales for Region A:\", mean_region_a_sales)\n",
    "print(\"Mean sales for Region B:\", mean_region_b_sales)\n"
   ]
  },
  {
   "cell_type": "code",
   "execution_count": 3,
   "id": "d6e14bc0",
   "metadata": {},
   "outputs": [
    {
     "data": {
      "text/plain": [
       "'2. Scenario: A survey is conducted to measure customer satisfaction on a scale of 1 to 5. The data collected is as follows:\\n   [4, 5, 2, 3, 5, 4, 3, 2, 4, 5]\\n   Calculate the mode of the survey responses\\n'"
      ]
     },
     "execution_count": 3,
     "metadata": {},
     "output_type": "execute_result"
    }
   ],
   "source": [
    "'''2. Scenario: A survey is conducted to measure customer satisfaction on a scale of 1 to 5. The data collected is as follows:\n",
    "   [4, 5, 2, 3, 5, 4, 3, 2, 4, 5]\n",
    "   Calculate the mode of the survey responses\n",
    "'''"
   ]
  },
  {
   "cell_type": "code",
   "execution_count": 4,
   "id": "9aabe62b",
   "metadata": {},
   "outputs": [
    {
     "name": "stdout",
     "output_type": "stream",
     "text": [
      "Mode of the survey responses: 4\n"
     ]
    }
   ],
   "source": [
    "from statistics import mode\n",
    "\n",
    "survey_responses = [4, 5, 2, 3, 5, 4, 3, 2, 4, 5]\n",
    "mode_response = mode(survey_responses)\n",
    "\n",
    "print(\"Mode of the survey responses:\", mode_response)\n"
   ]
  },
  {
   "cell_type": "code",
   "execution_count": 5,
   "id": "18edea61",
   "metadata": {},
   "outputs": [
    {
     "data": {
      "text/plain": [
       "'3. Scenario: A company wants to compare the salaries of two departments. The salary data for Department A and Department B are as follows:\\n   Department A: [5000, 6000, 5500, 7000]\\n   Department B: [4500, 5500, 5800, 6000, 5200]\\n   Calculate the median salary for each department.\\n'"
      ]
     },
     "execution_count": 5,
     "metadata": {},
     "output_type": "execute_result"
    }
   ],
   "source": [
    "'''3. Scenario: A company wants to compare the salaries of two departments. The salary data for Department A and Department B are as follows:\n",
    "   Department A: [5000, 6000, 5500, 7000]\n",
    "   Department B: [4500, 5500, 5800, 6000, 5200]\n",
    "   Calculate the median salary for each department.\n",
    "'''"
   ]
  },
  {
   "cell_type": "code",
   "execution_count": 6,
   "id": "980bf702",
   "metadata": {},
   "outputs": [
    {
     "name": "stdout",
     "output_type": "stream",
     "text": [
      "Median salary for Department A: 5750.0\n",
      "Median salary for Department B: 5500\n"
     ]
    }
   ],
   "source": [
    "# Salary data for Department A and Department B\n",
    "department_a_salary = [5000, 6000, 5500, 7000]\n",
    "department_b_salary = [4500, 5500, 5800, 6000, 5200]\n",
    "\n",
    "# Calculate the median salary for each department\n",
    "def median(data):\n",
    "    data.sort()\n",
    "    n = len(data)\n",
    "    if n % 2 == 0:\n",
    "        median_value = (data[n // 2 - 1] + data[n // 2]) / 2\n",
    "    else:\n",
    "        median_value = data[n // 2]\n",
    "    return median_value\n",
    "\n",
    "median_department_a = median(department_a_salary)\n",
    "median_department_b = median(department_b_salary)\n",
    "\n",
    "print(\"Median salary for Department A:\", median_department_a)\n",
    "print(\"Median salary for Department B:\", median_department_b)\n"
   ]
  },
  {
   "cell_type": "code",
   "execution_count": 7,
   "id": "adf5ccf3",
   "metadata": {},
   "outputs": [
    {
     "data": {
      "text/plain": [
       "'4. Scenario: A data analyst wants to determine the variability in the daily stock prices of a company. The data collected is as follows:\\n   [25.5, 24.8, 26.1, 25.3, 24.9]\\n   Calculate the range of the stock prices.\\n'"
      ]
     },
     "execution_count": 7,
     "metadata": {},
     "output_type": "execute_result"
    }
   ],
   "source": [
    "'''4. Scenario: A data analyst wants to determine the variability in the daily stock prices of a company. The data collected is as follows:\n",
    "   [25.5, 24.8, 26.1, 25.3, 24.9]\n",
    "   Calculate the range of the stock prices.\n",
    "'''"
   ]
  },
  {
   "cell_type": "code",
   "execution_count": 8,
   "id": "3a9ba94b",
   "metadata": {},
   "outputs": [
    {
     "name": "stdout",
     "output_type": "stream",
     "text": [
      "Range of stock prices: 1.3000000000000007\n"
     ]
    }
   ],
   "source": [
    "stock_prices = [25.5, 24.8, 26.1, 25.3, 24.9]\n",
    "\n",
    "# Calculate the range of the stock prices\n",
    "stock_price_range = max(stock_prices) - min(stock_prices)\n",
    "\n",
    "print(\"Range of stock prices:\", stock_price_range)\n"
   ]
  },
  {
   "cell_type": "code",
   "execution_count": 9,
   "id": "9be11b26",
   "metadata": {},
   "outputs": [
    {
     "data": {
      "text/plain": [
       "'5. Scenario: A study is conducted to compare the performance of two different teaching methods. The test scores of the students in each group are as follows:\\n   Group A: [85, 90, 92, 88, 91]\\n   Group B: [82, 88, 90, 86, 87]\\n   Perform a t-test to determine if there is a significant difference in the mean scores between the two groups.\\n'"
      ]
     },
     "execution_count": 9,
     "metadata": {},
     "output_type": "execute_result"
    }
   ],
   "source": [
    "'''5. Scenario: A study is conducted to compare the performance of two different teaching methods. The test scores of the students in each group are as follows:\n",
    "   Group A: [85, 90, 92, 88, 91]\n",
    "   Group B: [82, 88, 90, 86, 87]\n",
    "   Perform a t-test to determine if there is a significant difference in the mean scores between the two groups.\n",
    "'''"
   ]
  },
  {
   "cell_type": "code",
   "execution_count": 10,
   "id": "2ee26148",
   "metadata": {},
   "outputs": [
    {
     "name": "stdout",
     "output_type": "stream",
     "text": [
      "There is no significant difference in the mean scores between the two groups.\n"
     ]
    }
   ],
   "source": [
    "import scipy.stats as stats\n",
    "\n",
    "# Test scores for Group A and Group B\n",
    "group_a_scores = [85, 90, 92, 88, 91]\n",
    "group_b_scores = [82, 88, 90, 86, 87]\n",
    "\n",
    "# Perform t-test\n",
    "t_stat, p_value = stats.ttest_ind(group_a_scores, group_b_scores)\n",
    "\n",
    "# Check if the difference is significant at 95% confidence level (alpha = 0.05)\n",
    "if p_value < 0.05:\n",
    "    print(\"There is a significant difference in the mean scores between the two groups.\")\n",
    "else:\n",
    "    print(\"There is no significant difference in the mean scores between the two groups.\")\n"
   ]
  },
  {
   "cell_type": "code",
   "execution_count": 11,
   "id": "14aa63a3",
   "metadata": {},
   "outputs": [
    {
     "data": {
      "text/plain": [
       "'6. Scenario: A company wants to analyze the relationship between advertising expenditure and sales. The data collected is as follows:\\n   Advertising Expenditure (in thousands): [10, 15, 12, 8, 14]\\n   Sales (in thousands): [25, 30, 28, 20, 26]\\n   Calculate the correlation coefficient between advertising expenditure and sales.\\n'"
      ]
     },
     "execution_count": 11,
     "metadata": {},
     "output_type": "execute_result"
    }
   ],
   "source": [
    "'''6. Scenario: A company wants to analyze the relationship between advertising expenditure and sales. The data collected is as follows:\n",
    "   Advertising Expenditure (in thousands): [10, 15, 12, 8, 14]\n",
    "   Sales (in thousands): [25, 30, 28, 20, 26]\n",
    "   Calculate the correlation coefficient between advertising expenditure and sales.\n",
    "'''"
   ]
  },
  {
   "cell_type": "code",
   "execution_count": 12,
   "id": "607d4944",
   "metadata": {},
   "outputs": [
    {
     "name": "stdout",
     "output_type": "stream",
     "text": [
      "Correlation coefficient between advertising expenditure and sales: 0.8757511375750133\n"
     ]
    }
   ],
   "source": [
    "import numpy as np\n",
    "\n",
    "# Advertising expenditure and Sales data\n",
    "ad_expenditure = [10, 15, 12, 8, 14]\n",
    "sales = [25, 30, 28, 20, 26]\n",
    "\n",
    "# Calculate the correlation coefficient\n",
    "correlation_coefficient = np.corrcoef(ad_expenditure, sales)[0, 1]\n",
    "\n",
    "print(\"Correlation coefficient between advertising expenditure and sales:\", correlation_coefficient)\n"
   ]
  },
  {
   "cell_type": "code",
   "execution_count": 13,
   "id": "594de50d",
   "metadata": {},
   "outputs": [
    {
     "data": {
      "text/plain": [
       "'\\n7. Scenario: A survey is conducted to measure the heights of a group of people. The data collected is as follows:\\n   [160, 170, 165, 155, 175, 180, 170]\\n   Calculate the standard deviation of the heights.\\n'"
      ]
     },
     "execution_count": 13,
     "metadata": {},
     "output_type": "execute_result"
    }
   ],
   "source": [
    "'''\n",
    "7. Scenario: A survey is conducted to measure the heights of a group of people. The data collected is as follows:\n",
    "   [160, 170, 165, 155, 175, 180, 170]\n",
    "   Calculate the standard deviation of the heights.\n",
    "'''"
   ]
  },
  {
   "cell_type": "code",
   "execution_count": 14,
   "id": "ac47b417",
   "metadata": {},
   "outputs": [
    {
     "name": "stdout",
     "output_type": "stream",
     "text": [
      "Standard deviation of heights: 8.591246929842246\n"
     ]
    }
   ],
   "source": [
    "import statistics as stats\n",
    "\n",
    "heights = [160, 170, 165, 155, 175, 180, 170]\n",
    "\n",
    "# Calculate the standard deviation\n",
    "std_deviation = stats.stdev(heights)\n",
    "\n",
    "print(\"Standard deviation of heights:\", std_deviation)\n"
   ]
  },
  {
   "cell_type": "code",
   "execution_count": 15,
   "id": "3f8629fa",
   "metadata": {},
   "outputs": [
    {
     "data": {
      "text/plain": [
       "'8. Scenario: A company wants to analyze the relationship between employee tenure and job satisfaction. The data collected is as follows:\\n   Employee Tenure (in years): [2, 3, 5, 4, 6, 2, 4]\\n   Job Satisfaction (on a scale of 1 to 10): [7, 8, 6, 9, 5, 7, 6]\\n   Perform a linear regression analysis to predict job satisfaction based on employee tenure\\n'"
      ]
     },
     "execution_count": 15,
     "metadata": {},
     "output_type": "execute_result"
    }
   ],
   "source": [
    "'''8. Scenario: A company wants to analyze the relationship between employee tenure and job satisfaction. The data collected is as follows:\n",
    "   Employee Tenure (in years): [2, 3, 5, 4, 6, 2, 4]\n",
    "   Job Satisfaction (on a scale of 1 to 10): [7, 8, 6, 9, 5, 7, 6]\n",
    "   Perform a linear regression analysis to predict job satisfaction based on employee tenure\n",
    "'''"
   ]
  },
  {
   "cell_type": "code",
   "execution_count": 16,
   "id": "c28f41b3",
   "metadata": {},
   "outputs": [
    {
     "name": "stdout",
     "output_type": "stream",
     "text": [
      "Intercept: 8.595744680851062\n",
      "Slope: -0.46808510638297957\n"
     ]
    }
   ],
   "source": [
    "import numpy as np\n",
    "import statsmodels.api as sm\n",
    "\n",
    "# Employee tenure (in years) and Job satisfaction data\n",
    "employee_tenure = [2, 3, 5, 4, 6, 2, 4]\n",
    "job_satisfaction = [7, 8, 6, 9, 5, 7, 6]\n",
    "\n",
    "# Add a constant to the employee tenure data for the intercept term\n",
    "X = sm.add_constant(employee_tenure)\n",
    "\n",
    "# Perform linear regression\n",
    "model = sm.OLS(job_satisfaction, X).fit()\n",
    "\n",
    "# Get the regression coefficients\n",
    "intercept, slope = model.params\n",
    "\n",
    "print(\"Intercept:\", intercept)\n",
    "print(\"Slope:\", slope)\n"
   ]
  },
  {
   "cell_type": "code",
   "execution_count": 17,
   "id": "4ab434db",
   "metadata": {},
   "outputs": [
    {
     "data": {
      "text/plain": [
       "'9. Scenario: A study is conducted to compare the effectiveness of two different medications. The recovery times of the patients in each group are as follows:\\n   Medication A: [10, 12, 14, 11, 13]\\n   Medication B: [15, 17, 16, 14, 18]\\n   Perform an analysis of variance (ANOVA) to determine if there is a significant difference in the mean recovery times between the two medications.\\n'"
      ]
     },
     "execution_count": 17,
     "metadata": {},
     "output_type": "execute_result"
    }
   ],
   "source": [
    "'''9. Scenario: A study is conducted to compare the effectiveness of two different medications. The recovery times of the patients in each group are as follows:\n",
    "   Medication A: [10, 12, 14, 11, 13]\n",
    "   Medication B: [15, 17, 16, 14, 18]\n",
    "   Perform an analysis of variance (ANOVA) to determine if there is a significant difference in the mean recovery times between the two medications.\n",
    "'''"
   ]
  },
  {
   "cell_type": "code",
   "execution_count": 18,
   "id": "26f87744",
   "metadata": {},
   "outputs": [
    {
     "name": "stdout",
     "output_type": "stream",
     "text": [
      "There is a significant difference in the mean recovery times between the two medications.\n"
     ]
    }
   ],
   "source": [
    "import scipy.stats as stats\n",
    "\n",
    "# Recovery times for Medication A and Medication B\n",
    "medication_a_times = [10, 12, 14, 11, 13]\n",
    "medication_b_times = [15, 17, 16, 14, 18]\n",
    "\n",
    "# Perform ANOVA\n",
    "f_stat, p_value = stats.f_oneway(medication_a_times, medication_b_times)\n",
    "\n",
    "# Check if the difference is significant at 95% confidence level (alpha = 0.05)\n",
    "if p_value < 0.05:\n",
    "    print(\"There is a significant difference in the mean recovery times between the two medications.\")\n",
    "else:\n",
    "    print(\"There is no significant difference in the mean recovery times between the two medications.\")\n"
   ]
  },
  {
   "cell_type": "code",
   "execution_count": 19,
   "id": "30cc3ca4",
   "metadata": {},
   "outputs": [
    {
     "data": {
      "text/plain": [
       "'10. Scenario: A company wants to analyze customer feedback ratings on a scale of 1 to 10. The data collected is\\n\\n as follows:\\n    [8, 9, 7, 6, 8, 10, 9, 8, 7, 8]\\n    Calculate the 75th percentile of the feedback ratings.\\n'"
      ]
     },
     "execution_count": 19,
     "metadata": {},
     "output_type": "execute_result"
    }
   ],
   "source": [
    "'''10. Scenario: A company wants to analyze customer feedback ratings on a scale of 1 to 10. The data collected is\n",
    "\n",
    " as follows:\n",
    "    [8, 9, 7, 6, 8, 10, 9, 8, 7, 8]\n",
    "    Calculate the 75th percentile of the feedback ratings.\n",
    "'''"
   ]
  },
  {
   "cell_type": "code",
   "execution_count": 20,
   "id": "799a1965",
   "metadata": {},
   "outputs": [
    {
     "name": "stdout",
     "output_type": "stream",
     "text": [
      "75th percentile of feedback ratings: 8.75\n"
     ]
    }
   ],
   "source": [
    "import numpy as np\n",
    "\n",
    "feedback_ratings = [8, 9, 7, 6, 8, 10, 9, 8, 7, 8]\n",
    "\n",
    "# Calculate the 75th percentile\n",
    "percentile_75 = np.percentile(feedback_ratings, 75)\n",
    "\n",
    "print(\"75th percentile of feedback ratings:\", percentile_75)\n"
   ]
  },
  {
   "cell_type": "code",
   "execution_count": 21,
   "id": "0da9b40c",
   "metadata": {},
   "outputs": [
    {
     "data": {
      "text/plain": [
       "'11. Scenario: A quality control department wants to test the weight consistency of a product. The weights of a sample of products are as follows:\\n    [10.2, 9.8, 10.0, 10.5, 10.3, 10.1]\\n    Perform a hypothesis test to determine if the mean weight differs significantly from 10 grams.\\n'"
      ]
     },
     "execution_count": 21,
     "metadata": {},
     "output_type": "execute_result"
    }
   ],
   "source": [
    "'''11. Scenario: A quality control department wants to test the weight consistency of a product. The weights of a sample of products are as follows:\n",
    "    [10.2, 9.8, 10.0, 10.5, 10.3, 10.1]\n",
    "    Perform a hypothesis test to determine if the mean weight differs significantly from 10 grams.\n",
    "'''"
   ]
  },
  {
   "cell_type": "code",
   "execution_count": 22,
   "id": "2d5f890b",
   "metadata": {},
   "outputs": [
    {
     "name": "stdout",
     "output_type": "stream",
     "text": [
      "The mean weight does not differ significantly from 10 grams.\n"
     ]
    }
   ],
   "source": [
    "import scipy.stats as stats\n",
    "\n",
    "sample_weights = [10.2, 9.8, 10.0, 10.5, 10.3, 10.1]\n",
    "\n",
    "# Perform one-sample t-test\n",
    "t_stat, p_value = stats.ttest_1samp(sample_weights, popmean=10)\n",
    "\n",
    "# Check if the difference is significant at 95% confidence level (alpha = 0.05)\n",
    "if p_value < 0.05:\n",
    "    print(\"The mean weight differs significantly from 10 grams.\")\n",
    "else:\n",
    "    print(\"The mean weight does not differ significantly from 10 grams.\")\n"
   ]
  },
  {
   "cell_type": "code",
   "execution_count": 23,
   "id": "ba2f3481",
   "metadata": {},
   "outputs": [
    {
     "data": {
      "text/plain": [
       "'12. Scenario: A company wants to analyze the click-through rates of two different website designs. The number of clicks for each design is as follows:\\n    Design A: [100, 120, 110, 90, 95]\\n    Design B: [80, 85, 90, 95, 100]\\n    Perform a chi-square test to determine if there is a significant difference in the click-through rates between the two designs.\\n'"
      ]
     },
     "execution_count": 23,
     "metadata": {},
     "output_type": "execute_result"
    }
   ],
   "source": [
    "'''12. Scenario: A company wants to analyze the click-through rates of two different website designs. The number of clicks for each design is as follows:\n",
    "    Design A: [100, 120, 110, 90, 95]\n",
    "    Design B: [80, 85, 90, 95, 100]\n",
    "    Perform a chi-square test to determine if there is a significant difference in the click-through rates between the two designs.\n",
    "'''"
   ]
  },
  {
   "cell_type": "code",
   "execution_count": 24,
   "id": "71f0640e",
   "metadata": {},
   "outputs": [
    {
     "name": "stdout",
     "output_type": "stream",
     "text": [
      "There is no significant difference in the click-through rates between the two designs.\n"
     ]
    }
   ],
   "source": [
    "import scipy.stats as stats\n",
    "\n",
    "# Click-through rates for Design A and Design B\n",
    "design_a_clicks = [100, 120, 110, 90, 95]\n",
    "design_b_clicks = [80, 85, 90, 95, 100]\n",
    "\n",
    "# Perform chi-square test\n",
    "chi2_stat, p_value, dof, expected = stats.chi2_contingency([design_a_clicks, design_b_clicks])\n",
    "\n",
    "# Check if the difference is significant at 95% confidence level (alpha = 0.05)\n",
    "if p_value < 0.05:\n",
    "    print(\"There is a significant difference in the click-through rates between the two designs.\")\n",
    "else:\n",
    "    print(\"There is no significant difference in the click-through rates between the two designs.\")\n"
   ]
  },
  {
   "cell_type": "code",
   "execution_count": 25,
   "id": "41ef6af0",
   "metadata": {},
   "outputs": [
    {
     "data": {
      "text/plain": [
       "'\\n13. Scenario: A survey is conducted to measure customer satisfaction with a product on a scale of 1 to 10. The data collected is as follows:\\n    [7, 9, 6, 8, 10, 7, 8, 9, 7, 8]\\n    Calculate the 95% confidence interval for the population mean satisfaction score.\\n\\n'"
      ]
     },
     "execution_count": 25,
     "metadata": {},
     "output_type": "execute_result"
    }
   ],
   "source": [
    "'''\n",
    "13. Scenario: A survey is conducted to measure customer satisfaction with a product on a scale of 1 to 10. The data collected is as follows:\n",
    "    [7, 9, 6, 8, 10, 7, 8, 9, 7, 8]\n",
    "    Calculate the 95% confidence interval for the population mean satisfaction score.\n",
    "\n",
    "'''"
   ]
  },
  {
   "cell_type": "code",
   "execution_count": 26,
   "id": "2a529a58",
   "metadata": {},
   "outputs": [
    {
     "name": "stdout",
     "output_type": "stream",
     "text": [
      "95% confidence interval for the population mean satisfaction score: (7.043561120599888, 8.756438879400113)\n"
     ]
    }
   ],
   "source": [
    "import scipy.stats as stats\n",
    "\n",
    "satisfaction_scores = [7, 9, 6, 8, 10, 7, 8, 9, 7, 8]\n",
    "\n",
    "# Calculate the mean satisfaction score\n",
    "mean_score = np.mean(satisfaction_scores)\n",
    "\n",
    "# Calculate the standard error of the mean\n",
    "std_error = stats.sem(satisfaction_scores)\n",
    "\n",
    "# Calculate the 95% confidence interval\n",
    "confidence_interval = stats.t.interval(0.95, len(satisfaction_scores) - 1, loc=mean_score, scale=std_error)\n",
    "\n",
    "print(\"95% confidence interval for the population mean satisfaction score:\", confidence_interval)\n"
   ]
  },
  {
   "cell_type": "code",
   "execution_count": 27,
   "id": "f1e3892e",
   "metadata": {},
   "outputs": [
    {
     "data": {
      "text/plain": [
       "'14. Scenario: A company wants to analyze the effect of temperature on product performance. The data collected is as follows:\\n    Temperature (in degrees Celsius): [20, 22, 23, 19, 21]\\n    Performance (on a scale of 1 to 10): [8, 7, 9, 6, 8]\\n    Perform a simple linear regression to predict performance based on temperature.\\n'"
      ]
     },
     "execution_count": 27,
     "metadata": {},
     "output_type": "execute_result"
    }
   ],
   "source": [
    "'''14. Scenario: A company wants to analyze the effect of temperature on product performance. The data collected is as follows:\n",
    "    Temperature (in degrees Celsius): [20, 22, 23, 19, 21]\n",
    "    Performance (on a scale of 1 to 10): [8, 7, 9, 6, 8]\n",
    "    Perform a simple linear regression to predict performance based on temperature.\n",
    "'''"
   ]
  },
  {
   "cell_type": "code",
   "execution_count": 28,
   "id": "ba7bc53e",
   "metadata": {},
   "outputs": [
    {
     "name": "stdout",
     "output_type": "stream",
     "text": [
      "Intercept: -2.9000000000000012\n",
      "Slope: 0.4999999999999997\n"
     ]
    }
   ],
   "source": [
    "import numpy as np\n",
    "import statsmodels.api as sm\n",
    "\n",
    "# Temperature (in degrees Celsius) and Performance data\n",
    "temperature = [20, 22, 23, 19, 21]\n",
    "performance = [8, 7, 9, 6, 8]\n",
    "\n",
    "# Add a constant to the temperature data for the intercept term\n",
    "X = sm.add_constant(temperature)\n",
    "\n",
    "# Perform linear regression\n",
    "model = sm.OLS(performance, X).fit()\n",
    "\n",
    "# Get the regression coefficients\n",
    "intercept, slope = model.params\n",
    "\n",
    "print(\"Intercept:\", intercept)\n",
    "print(\"Slope:\", slope)\n"
   ]
  },
  {
   "cell_type": "code",
   "execution_count": 29,
   "id": "d63547e8",
   "metadata": {},
   "outputs": [
    {
     "data": {
      "text/plain": [
       "'15. Scenario: A study is conducted to compare the preferences of two groups of participants. The preferences are measured on a Likert scale from 1 to 5. The data collected is as follows:\\n    Group A: [4, 3, 5, 2, 4]\\n    Group B: [3, 2, 4, 3, 3]\\n    Perform a Mann-Whitney U test to determine if there is a significant difference in the median preferences between the two groups.\\n'"
      ]
     },
     "execution_count": 29,
     "metadata": {},
     "output_type": "execute_result"
    }
   ],
   "source": [
    "'''15. Scenario: A study is conducted to compare the preferences of two groups of participants. The preferences are measured on a Likert scale from 1 to 5. The data collected is as follows:\n",
    "    Group A: [4, 3, 5, 2, 4]\n",
    "    Group B: [3, 2, 4, 3, 3]\n",
    "    Perform a Mann-Whitney U test to determine if there is a significant difference in the median preferences between the two groups.\n",
    "'''"
   ]
  },
  {
   "cell_type": "code",
   "execution_count": 30,
   "id": "9756e2f6",
   "metadata": {},
   "outputs": [
    {
     "name": "stdout",
     "output_type": "stream",
     "text": [
      "There is no significant difference in the median preferences between the two groups.\n"
     ]
    }
   ],
   "source": [
    "import scipy.stats as stats\n",
    "\n",
    "# Preferences for Group A and Group B\n",
    "group_a_preferences = [4, 3, 5, 2, 4]\n",
    "group_b_preferences = [3, 2, 4, 3, 3]\n",
    "\n",
    "# Perform Mann-Whitney U test\n",
    "statistic, p_value = stats.mannwhitneyu(group_a_preferences, group_b_preferences)\n",
    "\n",
    "# Check if the difference is significant at 95% confidence level (alpha = 0.05)\n",
    "if p_value < 0.05:\n",
    "    print(\"There is a significant difference in the median preferences between the two groups.\")\n",
    "else:\n",
    "    print(\"There is no significant difference in the median preferences between the two groups.\")\n"
   ]
  },
  {
   "cell_type": "code",
   "execution_count": 31,
   "id": "2b7d04e9",
   "metadata": {},
   "outputs": [
    {
     "data": {
      "text/plain": [
       "'16. Scenario: A company wants to analyze the distribution of customer ages. The data collected is as follows:\\n    [25, 30, 35, 40, 45, 50, 55, 60, 65, 70]\\n    Calculate the interquartile range (IQR) of the ages.\\n'"
      ]
     },
     "execution_count": 31,
     "metadata": {},
     "output_type": "execute_result"
    }
   ],
   "source": [
    "'''16. Scenario: A company wants to analyze the distribution of customer ages. The data collected is as follows:\n",
    "    [25, 30, 35, 40, 45, 50, 55, 60, 65, 70]\n",
    "    Calculate the interquartile range (IQR) of the ages.\n",
    "'''"
   ]
  },
  {
   "cell_type": "code",
   "execution_count": 32,
   "id": "5c506168",
   "metadata": {},
   "outputs": [
    {
     "name": "stdout",
     "output_type": "stream",
     "text": [
      "Interquartile range (IQR) of ages: 22.5\n"
     ]
    }
   ],
   "source": [
    "import numpy as np\n",
    "\n",
    "ages = [25, 30, 35, 40, 45, 50, 55, 60, 65, 70]\n",
    "\n",
    "# Calculate the interquartile range (IQR)\n",
    "iqr = np.percentile(ages, 75) - np.percentile(ages, 25)\n",
    "\n",
    "print(\"Interquartile range (IQR) of ages:\", iqr)\n"
   ]
  },
  {
   "cell_type": "code",
   "execution_count": 33,
   "id": "177b990e",
   "metadata": {},
   "outputs": [
    {
     "data": {
      "text/plain": [
       "'17. Scenario: A study is conducted to compare the performance of three different machine learning algorithms. The accuracy scores for each algorithm are as follows:\\n    Algorithm A: [0.85, 0.80, 0.82, 0.87, 0.83]\\n    Algorithm B: [0.78, 0.82, 0.84, 0.80, 0.79]\\n    Algorithm C: [0.90, 0.88, 0.89, 0.86, 0.87]\\n    Perform a Kruskal-Wallis test to determine if there is a significant difference in the median accuracy scores between the algorithms.\\n'"
      ]
     },
     "execution_count": 33,
     "metadata": {},
     "output_type": "execute_result"
    }
   ],
   "source": [
    "'''17. Scenario: A study is conducted to compare the performance of three different machine learning algorithms. The accuracy scores for each algorithm are as follows:\n",
    "    Algorithm A: [0.85, 0.80, 0.82, 0.87, 0.83]\n",
    "    Algorithm B: [0.78, 0.82, 0.84, 0.80, 0.79]\n",
    "    Algorithm C: [0.90, 0.88, 0.89, 0.86, 0.87]\n",
    "    Perform a Kruskal-Wallis test to determine if there is a significant difference in the median accuracy scores between the algorithms.\n",
    "'''"
   ]
  },
  {
   "cell_type": "code",
   "execution_count": 34,
   "id": "15573cae",
   "metadata": {},
   "outputs": [
    {
     "name": "stdout",
     "output_type": "stream",
     "text": [
      "There is a significant difference in the median accuracy scores between the algorithms.\n"
     ]
    }
   ],
   "source": [
    "import scipy.stats as stats\n",
    "\n",
    "# Accuracy scores for Algorithm A, Algorithm B, and Algorithm C\n",
    "algorithm_a_scores = [0.85, 0.80, 0.82, 0.87, 0.83]\n",
    "algorithm_b_scores = [0.78, 0.82, 0.84, 0.80, 0.79]\n",
    "algorithm_c_scores = [0.90, 0.88, 0.89, 0.86, 0.87]\n",
    "\n",
    "# Perform Kruskal-Wallis test\n",
    "statistic, p_value = stats.kruskal(algorithm_a_scores, algorithm_b_scores, algorithm_c_scores)\n",
    "\n",
    "# Check if the difference is significant at 95% confidence level (alpha = 0.05)\n",
    "if p_value < 0.05:\n",
    "    print(\"There is a significant difference in the median accuracy scores between the algorithms.\")\n",
    "else:\n",
    "    print(\"There is no significant difference in the median accuracy scores between the algorithms.\")\n"
   ]
  },
  {
   "cell_type": "code",
   "execution_count": 35,
   "id": "ebd24cb2",
   "metadata": {},
   "outputs": [
    {
     "data": {
      "text/plain": [
       "'18. Scenario: A company wants to analyze the effect of price on sales. The data collected is as follows:\\n    Price (in dollars): [10, 15, 12, 8, 14]\\n    Sales: [100, 80, 90, 110, 95]\\n    Perform a simple linear regression to predict\\n\\n sales based on price.\\n'"
      ]
     },
     "execution_count": 35,
     "metadata": {},
     "output_type": "execute_result"
    }
   ],
   "source": [
    "'''18. Scenario: A company wants to analyze the effect of price on sales. The data collected is as follows:\n",
    "    Price (in dollars): [10, 15, 12, 8, 14]\n",
    "    Sales: [100, 80, 90, 110, 95]\n",
    "    Perform a simple linear regression to predict\n",
    "\n",
    " sales based on price.\n",
    "'''"
   ]
  },
  {
   "cell_type": "code",
   "execution_count": 36,
   "id": "0d54afb6",
   "metadata": {},
   "outputs": [
    {
     "name": "stdout",
     "output_type": "stream",
     "text": [
      "Intercept: 136.37195121951208\n",
      "Slope: -3.506097560975607\n"
     ]
    }
   ],
   "source": [
    "import numpy as np\n",
    "import statsmodels.api as sm\n",
    "\n",
    "# Price (in dollars) and Sales data\n",
    "price = [10, 15, 12, 8, 14]\n",
    "sales = [100, 80, 90, 110, 95]\n",
    "\n",
    "# Add a constant to the price data for the intercept term\n",
    "X = sm.add_constant(price)\n",
    "\n",
    "# Perform linear regression\n",
    "model = sm.OLS(sales, X).fit()\n",
    "\n",
    "# Get the regression coefficients\n",
    "intercept, slope = model.params\n",
    "\n",
    "print(\"Intercept:\", intercept)\n",
    "print(\"Slope:\", slope)\n"
   ]
  },
  {
   "cell_type": "code",
   "execution_count": 37,
   "id": "20790fd2",
   "metadata": {},
   "outputs": [
    {
     "data": {
      "text/plain": [
       "'19. Scenario: A survey is conducted to measure the satisfaction levels of customers with a new product. The data collected is as follows:\\n    [7, 8, 9, 6, 8, 7, 9, 7, 8, 7]\\n    Calculate the standard error of the mean satisfaction score.\\n\\n'"
      ]
     },
     "execution_count": 37,
     "metadata": {},
     "output_type": "execute_result"
    }
   ],
   "source": [
    "'''19. Scenario: A survey is conducted to measure the satisfaction levels of customers with a new product. The data collected is as follows:\n",
    "    [7, 8, 9, 6, 8, 7, 9, 7, 8, 7]\n",
    "    Calculate the standard error of the mean satisfaction score.\n",
    "\n",
    "'''"
   ]
  },
  {
   "cell_type": "code",
   "execution_count": 38,
   "id": "2333e191",
   "metadata": {},
   "outputs": [
    {
     "name": "stdout",
     "output_type": "stream",
     "text": [
      "Standard error of the mean satisfaction score: 0.30550504633038933\n"
     ]
    }
   ],
   "source": [
    "import scipy.stats as stats\n",
    "\n",
    "satisfaction_scores = [7, 8, 9, 6, 8, 7, 9, 7, 8, 7]\n",
    "\n",
    "# Calculate the standard error of the mean\n",
    "std_error = stats.sem(satisfaction_scores)\n",
    "\n",
    "print(\"Standard error of the mean satisfaction score:\", std_error)\n"
   ]
  },
  {
   "cell_type": "code",
   "execution_count": 39,
   "id": "e778518b",
   "metadata": {},
   "outputs": [
    {
     "data": {
      "text/plain": [
       "'20. Scenario: A company wants to analyze the relationship between advertising expenditure and sales. The data collected is as follows:\\n    Advertising Expenditure (in thousands): [10, 15, 12, 8, 14]\\n    Sales (in thousands): [25, 30, 28, 20, 26]\\n    Perform a multiple regression analysis to predict sales based on adv\\n'"
      ]
     },
     "execution_count": 39,
     "metadata": {},
     "output_type": "execute_result"
    }
   ],
   "source": [
    "'''20. Scenario: A company wants to analyze the relationship between advertising expenditure and sales. The data collected is as follows:\n",
    "    Advertising Expenditure (in thousands): [10, 15, 12, 8, 14]\n",
    "    Sales (in thousands): [25, 30, 28, 20, 26]\n",
    "    Perform a multiple regression analysis to predict sales based on adv\n",
    "'''"
   ]
  },
  {
   "cell_type": "code",
   "execution_count": 40,
   "id": "0de37929",
   "metadata": {},
   "outputs": [
    {
     "name": "stdout",
     "output_type": "stream",
     "text": [
      "Intercept: 12.201219512195117\n",
      "Slope: 1.1524390243902436\n"
     ]
    }
   ],
   "source": [
    "import numpy as np\n",
    "import statsmodels.api as sm\n",
    "\n",
    "# Advertising expenditure (in thousands) and Sales data\n",
    "ad_expenditure = [10, 15, 12, 8, 14]\n",
    "sales = [25, 30, 28, 20, 26]\n",
    "\n",
    "# Add a constant to the ad_expenditure data for the intercept term\n",
    "X = sm.add_constant(ad_expenditure)\n",
    "\n",
    "# Perform multiple regression\n",
    "model = sm.OLS(sales, X).fit()\n",
    "\n",
    "# Get the regression coefficients\n",
    "intercept, slope = model.params\n",
    "\n",
    "print(\"Intercept:\", intercept)\n",
    "print(\"Slope:\", slope)\n"
   ]
  },
  {
   "cell_type": "code",
   "execution_count": null,
   "id": "475a0976",
   "metadata": {},
   "outputs": [],
   "source": []
  }
 ],
 "metadata": {
  "kernelspec": {
   "display_name": "Python 3 (ipykernel)",
   "language": "python",
   "name": "python3"
  },
  "language_info": {
   "codemirror_mode": {
    "name": "ipython",
    "version": 3
   },
   "file_extension": ".py",
   "mimetype": "text/x-python",
   "name": "python",
   "nbconvert_exporter": "python",
   "pygments_lexer": "ipython3",
   "version": "3.9.7"
  }
 },
 "nbformat": 4,
 "nbformat_minor": 5
}
